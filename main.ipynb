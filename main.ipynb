{
 "cells": [
  {
   "cell_type": "code",
   "execution_count": 1,
   "id": "f4ab47b0",
   "metadata": {},
   "outputs": [],
   "source": [
    "!pip install requests --upgrade --quiet\n",
    "!pip install html5lib --upgrade --quiet\n",
    "!pip install bs4 --upgrade --quiet"
   ]
  },
  {
   "cell_type": "code",
   "execution_count": 2,
   "id": "c114cacd",
   "metadata": {},
   "outputs": [],
   "source": [
    "import requests\n",
    "from bs4 import BeautifulSoup"
   ]
  },
  {
   "cell_type": "code",
   "execution_count": 3,
   "id": "2c32c04d",
   "metadata": {},
   "outputs": [],
   "source": [
    "def get_rating(name):\n",
    "    search_url = f\"https://www.rottentomatoes.com/search?search={name}\"\n",
    "    r = requests.get(search_url)\n",
    "    search_html = r.content\n",
    "    search_soup = BeautifulSoup(search_html, 'html5lib')  \n",
    "    \n",
    "    link = search_soup.find('a', attrs = {'slot':'title'})['href']\n",
    "    r1 = requests.get(link)\n",
    "    html = r1.content\n",
    "    soup = BeautifulSoup(html, 'html5lib')    \n",
    "    \n",
    "    title = soup.find('h1').get_text()\n",
    "    rating = soup.find('score-board-deprecated')['audiencescore']\n",
    "    print(f\"Title: {title}\")\n",
    "    print(f\"Rating: {rating}%\")"
   ]
  },
  {
   "cell_type": "code",
   "execution_count": 4,
   "id": "b5f9c5c7",
   "metadata": {},
   "outputs": [
    {
     "name": "stdout",
     "output_type": "stream",
     "text": [
      "Enter the name of movie/show to get the ratings: ye jawani hai deewani\n",
      "Title: Yeh Jawaani Hai Deewani\n",
      "Rating: 64%\n"
     ]
    }
   ],
   "source": [
    "name = input('Enter the name of movie/show to get the ratings: ')\n",
    "get_rating(name)"
   ]
  },
  {
   "cell_type": "code",
   "execution_count": null,
   "id": "e894667d",
   "metadata": {},
   "outputs": [],
   "source": []
  }
 ],
 "metadata": {
  "kernelspec": {
   "display_name": "Python 3 (ipykernel)",
   "language": "python",
   "name": "python3"
  },
  "language_info": {
   "codemirror_mode": {
    "name": "ipython",
    "version": 3
   },
   "file_extension": ".py",
   "mimetype": "text/x-python",
   "name": "python",
   "nbconvert_exporter": "python",
   "pygments_lexer": "ipython3",
   "version": "3.11.5"
  }
 },
 "nbformat": 4,
 "nbformat_minor": 5
}
